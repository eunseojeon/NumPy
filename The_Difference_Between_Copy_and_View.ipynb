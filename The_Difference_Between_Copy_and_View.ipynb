{
  "nbformat": 4,
  "nbformat_minor": 0,
  "metadata": {
    "colab": {
      "provenance": [],
      "authorship_tag": "ABX9TyO762Cyqg9jm5rg58hN4aPT",
      "include_colab_link": true
    },
    "kernelspec": {
      "name": "python3",
      "display_name": "Python 3"
    },
    "language_info": {
      "name": "python"
    }
  },
  "cells": [
    {
      "cell_type": "markdown",
      "metadata": {
        "id": "view-in-github",
        "colab_type": "text"
      },
      "source": [
        "<a href=\"https://colab.research.google.com/github/eunseojeon/NumPy/blob/main/The_Difference_Between_Copy_and_View.ipynb\" target=\"_parent\"><img src=\"https://colab.research.google.com/assets/colab-badge.svg\" alt=\"Open In Colab\"/></a>"
      ]
    },
    {
      "cell_type": "code",
      "execution_count": 1,
      "metadata": {
        "colab": {
          "base_uri": "https://localhost:8080/"
        },
        "id": "59JkHOCDH-ws",
        "outputId": "d55a73e6-9fba-476b-84cf-c27499e71e8d"
      },
      "outputs": [
        {
          "output_type": "stream",
          "name": "stdout",
          "text": [
            "[42  2  3  4  5]\n",
            "[1 2 3 4 5]\n"
          ]
        }
      ],
      "source": [
        "#Copy\n",
        "import numpy as np\n",
        "\n",
        "arr = np.array([1, 2, 3, 4, 5])\n",
        "x = arr.copy()\n",
        "arr[0] = 42\n",
        "\n",
        "print(arr)\n",
        "print(x)\n",
        "\n",
        "#복사본을 만들고, 원본 배열을 변경하고, 두 배열을 모두 표시"
      ]
    },
    {
      "cell_type": "code",
      "source": [
        "#View\n",
        "import numpy as np\n",
        "\n",
        "arr = np.array([1, 2, 3, 4, 5])\n",
        "x = arr.view()\n",
        "arr[0] = 42\n",
        "\n",
        "print(arr)\n",
        "print(x)\n",
        "\n",
        "#뷰를 만들고, 원래 배열을 변경하고, 두 배열을 모두 표시"
      ],
      "metadata": {
        "colab": {
          "base_uri": "https://localhost:8080/"
        },
        "id": "NKzHzJuoIC1c",
        "outputId": "6f92a764-ace5-4da1-87f9-aecd8f8d0683"
      },
      "execution_count": 2,
      "outputs": [
        {
          "output_type": "stream",
          "name": "stdout",
          "text": [
            "[42  2  3  4  5]\n",
            "[42  2  3  4  5]\n"
          ]
        }
      ]
    },
    {
      "cell_type": "markdown",
      "source": [
        "> 위에서 언급한 것처럼, 복사본(copies)은 데이터를 소유하고, 뷰(views)는 데이터를 소유하지 않습니다.\n",
        "그렇다면 이것을 어떻게 확인할 수 있을까요?\n",
        "\n",
        "> 모든 NumPy 배열에는 base라는 속성이 있습니다.\n",
        "배열이 데이터를 소유하고 있다면 base 속성은 None을 반환합니다.\n",
        "그렇지 않은 경우, base 속성은 원본 객체를 가리킵니다."
      ],
      "metadata": {
        "id": "iUMrHQruIg1s"
      }
    },
    {
      "cell_type": "code",
      "source": [
        "import numpy as np\n",
        "\n",
        "arr = np.array([1, 2, 3, 4, 5])\n",
        "\n",
        "x = arr.copy()\n",
        "y = arr.view()\n",
        "\n",
        "print(x.base)\n",
        "print(y.base)\n",
        "\n",
        "# 배열이 데이터를 소유하고 있는지 확인하기 위해 기본 속성의 값을 인쇄합니다.\n",
        "#복사본은 None을 반환합니다. 뷰는 원본 배열을 반환합니다."
      ],
      "metadata": {
        "colab": {
          "base_uri": "https://localhost:8080/"
        },
        "id": "WMLaJnsIIpeD",
        "outputId": "d06193b3-52b4-4107-c17b-7c9f55a26166"
      },
      "execution_count": 3,
      "outputs": [
        {
          "output_type": "stream",
          "name": "stdout",
          "text": [
            "None\n",
            "[1 2 3 4 5]\n"
          ]
        }
      ]
    }
  ]
}