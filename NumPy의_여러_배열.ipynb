{
  "nbformat": 4,
  "nbformat_minor": 0,
  "metadata": {
    "colab": {
      "provenance": [],
      "authorship_tag": "ABX9TyP2O/3sqwjMezhP4qNzaP/f",
      "include_colab_link": true
    },
    "kernelspec": {
      "name": "python3",
      "display_name": "Python 3"
    },
    "language_info": {
      "name": "python"
    }
  },
  "cells": [
    {
      "cell_type": "markdown",
      "metadata": {
        "id": "view-in-github",
        "colab_type": "text"
      },
      "source": [
        "<a href=\"https://colab.research.google.com/github/eunseojeon/NumPy/blob/main/NumPy%EC%9D%98_%EC%97%AC%EB%9F%AC_%EB%B0%B0%EC%97%B4.ipynb\" target=\"_parent\"><img src=\"https://colab.research.google.com/assets/colab-badge.svg\" alt=\"Open In Colab\"/></a>"
      ]
    },
    {
      "cell_type": "markdown",
      "source": [
        "#1. 배열의 Shape"
      ],
      "metadata": {
        "id": "8uyGWEwaK_ho"
      }
    },
    {
      "cell_type": "markdown",
      "source": [
        "- NumPy 배열에는 shape라는 속성이 있는데,\n",
        "이 속성은 각 차원의 **요소 개수를 담은 튜플을 반환**합니다."
      ],
      "metadata": {
        "id": "74Eu5jJWLTBC"
      }
    },
    {
      "cell_type": "code",
      "execution_count": 52,
      "metadata": {
        "colab": {
          "base_uri": "https://localhost:8080/"
        },
        "id": "ghEB087yKilw",
        "outputId": "bbd1a657-e4cb-47e4-d098-c07cc652687c"
      },
      "outputs": [
        {
          "output_type": "stream",
          "name": "stdout",
          "text": [
            "(2, 4)\n"
          ]
        }
      ],
      "source": [
        "#2차원 배열의 shape을 출력\n",
        "import numpy as np\n",
        "\n",
        "arr = np.array([[1, 2, 3, 4], [5, 6, 7, 8]])\n",
        "\n",
        "print(arr.shape)"
      ]
    },
    {
      "cell_type": "markdown",
      "source": [
        "- 배열은 2차원.\n",
        "- 첫 번째 차원에는 2개의 요소가 있고 두 번째 차원에는 4개의 요소가 있다.\n",
        "---\n",
        "\n"
      ],
      "metadata": {
        "id": "VEvbaqeRLffB"
      }
    },
    {
      "cell_type": "code",
      "source": [
        "import numpy as np\n",
        "\n",
        "arr = np.array([1, 2, 3, 4], ndmin=5)\n",
        "\n",
        "print(arr)\n",
        "print('shape of array :', arr.shape)"
      ],
      "metadata": {
        "colab": {
          "base_uri": "https://localhost:8080/"
        },
        "id": "IzDIdhxFLnPr",
        "outputId": "22e1b88b-3413-4adc-bd87-d2a277313529"
      },
      "execution_count": 53,
      "outputs": [
        {
          "output_type": "stream",
          "name": "stdout",
          "text": [
            "[[[[[1 2 3 4]]]]]\n",
            "shape of array : (1, 1, 1, 1, 4)\n"
          ]
        }
      ]
    },
    {
      "cell_type": "markdown",
      "source": [
        "- ndmin값 1, 2, 3, 4를 갖는 벡터를 사용하여 5차원 배열을 만들고 마지막 차원의 값이 4인지 확인\n",
        "---"
      ],
      "metadata": {
        "id": "gklhbFwNLr24"
      }
    },
    {
      "cell_type": "markdown",
      "source": [
        "# 2. NumPy 배열 재구성"
      ],
      "metadata": {
        "id": "Pjwvy59RMOLv"
      }
    },
    {
      "cell_type": "markdown",
      "source": [
        "- 재구성은 **배열의 모양을 바꾸는 것**을 의미\n",
        "- 배열의 모양은 각 차원의 요소 수입니다.\n",
        "- 재구성을 통해 차원을 **추가**하거나 **제거**할 수 있으며, 각 차원의 요소 **개수를 변경**할 수 있습니다."
      ],
      "metadata": {
        "id": "1-Prdm3mMT5m"
      }
    },
    {
      "cell_type": "code",
      "source": [
        "#1차원에서 2차원으로 재구성\n",
        "import numpy as np\n",
        "\n",
        "arr = np.array([1, 2, 3, 4, 5, 6, 7, 8, 9, 10, 11, 12])\n",
        "\n",
        "newarr = arr.reshape(4, 3)\n",
        "\n",
        "print(newarr)"
      ],
      "metadata": {
        "colab": {
          "base_uri": "https://localhost:8080/"
        },
        "id": "TScqP-CCMR2s",
        "outputId": "b79568aa-77d1-4269-d648-6761b71901c2"
      },
      "execution_count": 54,
      "outputs": [
        {
          "output_type": "stream",
          "name": "stdout",
          "text": [
            "[[ 1  2  3]\n",
            " [ 4  5  6]\n",
            " [ 7  8  9]\n",
            " [10 11 12]]\n"
          ]
        }
      ]
    },
    {
      "cell_type": "code",
      "source": [
        "#1차원에서 3차원으로 재구성\n",
        "import numpy as np\n",
        "\n",
        "arr = np.array([1, 2, 3, 4, 5, 6, 7, 8, 9, 10, 11, 12])\n",
        "\n",
        "newarr = arr.reshape(2, 3, 2)\n",
        "\n",
        "print(newarr)"
      ],
      "metadata": {
        "colab": {
          "base_uri": "https://localhost:8080/"
        },
        "id": "oJK5vm-KMeJt",
        "outputId": "f23a5053-fe1b-4337-d5a6-858e9d66caf9"
      },
      "execution_count": 55,
      "outputs": [
        {
          "output_type": "stream",
          "name": "stdout",
          "text": [
            "[[[ 1  2]\n",
            "  [ 3  4]\n",
            "  [ 5  6]]\n",
            "\n",
            " [[ 7  8]\n",
            "  [ 9 10]\n",
            "  [11 12]]]\n"
          ]
        }
      ]
    },
    {
      "cell_type": "markdown",
      "source": [
        "---\n",
        "**우리는 어떤 모양으로든 변할 수 있을까?**\n",
        "- 네! 두 모양 모두 재구성에 필요한 **요소가 동일하다면 **가능합니다.\n",
        "- 8개 요소의 1차원 배열을 2행 2차원 배열의 4개 요소로 재구성할 수 있지만, 3개 요소의 3행 2차원 배열로 재구성할 수는 없습니다. 재구성하려면 3x3 = 9개 요소가 필요하기 때문입니다.\n"
      ],
      "metadata": {
        "id": "ttImiDLOMl0I"
      }
    },
    {
      "cell_type": "code",
      "source": [
        "import numpy as np\n",
        "\n",
        "arr = np.array([1, 2, 3, 4, 5, 6, 7, 8])\n",
        "\n",
        "newarr = arr.reshape(3, 3) #->이 코드의 문제점: arr 배열의 요소 개수(8개)와 reshape(3, 3)에서 요구하는 요소 개수(3×3=9개)가 맞지 않는다는 점\n",
        "\n",
        "print(newarr)"
      ],
      "metadata": {
        "colab": {
          "base_uri": "https://localhost:8080/",
          "height": 233
        },
        "id": "jLW9kFQfNCKL",
        "outputId": "b31cb525-4c45-4139-97c6-0f3e4c738017"
      },
      "execution_count": 56,
      "outputs": [
        {
          "output_type": "error",
          "ename": "ValueError",
          "evalue": "cannot reshape array of size 8 into shape (3,3)",
          "traceback": [
            "\u001b[0;31m---------------------------------------------------------------------------\u001b[0m",
            "\u001b[0;31mValueError\u001b[0m                                Traceback (most recent call last)",
            "\u001b[0;32m/tmp/ipython-input-56-2685015586.py\u001b[0m in \u001b[0;36m<cell line: 0>\u001b[0;34m()\u001b[0m\n\u001b[1;32m      3\u001b[0m \u001b[0marr\u001b[0m \u001b[0;34m=\u001b[0m \u001b[0mnp\u001b[0m\u001b[0;34m.\u001b[0m\u001b[0marray\u001b[0m\u001b[0;34m(\u001b[0m\u001b[0;34m[\u001b[0m\u001b[0;36m1\u001b[0m\u001b[0;34m,\u001b[0m \u001b[0;36m2\u001b[0m\u001b[0;34m,\u001b[0m \u001b[0;36m3\u001b[0m\u001b[0;34m,\u001b[0m \u001b[0;36m4\u001b[0m\u001b[0;34m,\u001b[0m \u001b[0;36m5\u001b[0m\u001b[0;34m,\u001b[0m \u001b[0;36m6\u001b[0m\u001b[0;34m,\u001b[0m \u001b[0;36m7\u001b[0m\u001b[0;34m,\u001b[0m \u001b[0;36m8\u001b[0m\u001b[0;34m]\u001b[0m\u001b[0;34m)\u001b[0m\u001b[0;34m\u001b[0m\u001b[0;34m\u001b[0m\u001b[0m\n\u001b[1;32m      4\u001b[0m \u001b[0;34m\u001b[0m\u001b[0m\n\u001b[0;32m----> 5\u001b[0;31m \u001b[0mnewarr\u001b[0m \u001b[0;34m=\u001b[0m \u001b[0marr\u001b[0m\u001b[0;34m.\u001b[0m\u001b[0mreshape\u001b[0m\u001b[0;34m(\u001b[0m\u001b[0;36m3\u001b[0m\u001b[0;34m,\u001b[0m \u001b[0;36m3\u001b[0m\u001b[0;34m)\u001b[0m \u001b[0;31m#->이 코드의 문제점: arr 배열의 요소 개수(8개)와 reshape(3, 3)에서 요구하는 요소 개수(3×3=9개)가 맞지 않는다는 점\u001b[0m\u001b[0;34m\u001b[0m\u001b[0;34m\u001b[0m\u001b[0m\n\u001b[0m\u001b[1;32m      6\u001b[0m \u001b[0;34m\u001b[0m\u001b[0m\n\u001b[1;32m      7\u001b[0m \u001b[0mprint\u001b[0m\u001b[0;34m(\u001b[0m\u001b[0mnewarr\u001b[0m\u001b[0;34m)\u001b[0m\u001b[0;34m\u001b[0m\u001b[0;34m\u001b[0m\u001b[0m\n",
            "\u001b[0;31mValueError\u001b[0m: cannot reshape array of size 8 into shape (3,3)"
          ]
        }
      ]
    },
    {
      "cell_type": "markdown",
      "source": [
        "**위의 오류를 고치면?**"
      ],
      "metadata": {
        "id": "tP0eEVbfNK7G"
      }
    },
    {
      "cell_type": "code",
      "source": [
        "import numpy as np\n",
        "\n",
        "arr = np.array([1, 2, 3, 4, 5, 6, 7, 8, 9])\n",
        "\n",
        "newarr = arr.reshape(3, 3) #arr 배열의 요소 개수(9개)와 reshape(3, 3)에서 요구하는 요소 개수(3×3=9개)를 맞게 고쳐주었다.\n",
        "\n",
        "\n",
        "print(newarr)\n"
      ],
      "metadata": {
        "colab": {
          "base_uri": "https://localhost:8080/"
        },
        "id": "bFSWH3CPNNYS",
        "outputId": "6a27a248-a902-4ebd-bed8-87d70adf5378"
      },
      "execution_count": 70,
      "outputs": [
        {
          "output_type": "stream",
          "name": "stdout",
          "text": [
            "[[1 2 3]\n",
            " [4 5 6]\n",
            " [7 8 9]]\n"
          ]
        }
      ]
    },
    {
      "cell_type": "markdown",
      "source": [
        "# 3. NumPy 배열의 반복"
      ],
      "metadata": {
        "id": "TIn96de2NxB3"
      }
    },
    {
      "cell_type": "markdown",
      "source": [
        "- **반복(iterating)**이란 요소들을 하나씩 **차례대로** 살펴보는 것을 의미합니다.\n",
        "- numpy에서 **다차원 배열**을 다룰 때도 파이썬의 기본 **for 반복문**을 사용해서 이를 할 수 있습니다.\n",
        "- 1차원 배열을 반복(iterate)하면 각 요소를 하나씩 차례로 살펴보게 됩니다."
      ],
      "metadata": {
        "id": "Whl_aarRN8mz"
      }
    },
    {
      "cell_type": "code",
      "source": [
        "#1차원 배열 반복\n",
        "import numpy as np\n",
        "\n",
        "arr = np.array([1, 2, 3])\n",
        "\n",
        "for x in arr:\n",
        "  print(x)"
      ],
      "metadata": {
        "colab": {
          "base_uri": "https://localhost:8080/"
        },
        "id": "-EtfptNGNw15",
        "outputId": "251851ad-a3b2-4a26-853c-e50483dc8777"
      },
      "execution_count": 71,
      "outputs": [
        {
          "output_type": "stream",
          "name": "stdout",
          "text": [
            "1\n",
            "2\n",
            "3\n"
          ]
        }
      ]
    },
    {
      "cell_type": "code",
      "source": [
        "#2차원 배열 반복\n",
        "import numpy as np\n",
        "\n",
        "arr = np.array([[1, 2, 3], [4, 5, 6]])\n",
        "\n",
        "for x in arr:\n",
        "  print(x)"
      ],
      "metadata": {
        "colab": {
          "base_uri": "https://localhost:8080/"
        },
        "id": "VXRnLmWmON2c",
        "outputId": "b9949f86-a255-455f-ebf2-6ad396f0bd52"
      },
      "execution_count": 72,
      "outputs": [
        {
          "output_type": "stream",
          "name": "stdout",
          "text": [
            "[1 2 3]\n",
            "[4 5 6]\n"
          ]
        }
      ]
    },
    {
      "cell_type": "code",
      "source": [
        "import numpy as np\n",
        "\n",
        "arr = np.array([[1, 2, 3], [4, 5, 6]])\n",
        "\n",
        "for x in arr:\n",
        "  for y in x:\n",
        "    print(y) #실제 값인 스칼라를 반환하려면 각 차원의 배열을 반복해야 합니다."
      ],
      "metadata": {
        "colab": {
          "base_uri": "https://localhost:8080/"
        },
        "id": "aJiBWsSTPPa_",
        "outputId": "423d35ab-7ac3-4c22-8a47-0b4e5214d781"
      },
      "execution_count": 73,
      "outputs": [
        {
          "output_type": "stream",
          "name": "stdout",
          "text": [
            "1\n",
            "2\n",
            "3\n",
            "4\n",
            "5\n",
            "6\n"
          ]
        }
      ]
    },
    {
      "cell_type": "markdown",
      "source": [
        "---\n",
        "\n",
        "### nditer()를 사용하여 배열 반복하기\n",
        "- nditer() 함수는 매우 기본적인 반복부터 매우 고급 반복까지 사용할 수 있는 보조 함수입니다.\n",
        "- 이 함수는 반복 과정에서 우리가 겪는 몇 가지 기본적인 문제를 해결해 줍니다.\n",
        "### 각 스칼라 요소 반복\n",
        "- 기본 for 루프를 사용할 때, 배열의 각 스칼라(단일 값)를 반복하려면 배열의 차원 수만큼 for 루프를 중첩해서 써야 합니다.\n",
        "- 이렇게 하면 차원이 높은 배열의 경우 코드를 작성하기가 매우 어렵고 복잡해질 수 있습니다."
      ],
      "metadata": {
        "id": "HbtMsADvPXeu"
      }
    },
    {
      "cell_type": "code",
      "source": [
        "import numpy as np\n",
        "\n",
        "arr = np.array([[[1, 2], [3, 4]], [[5, 6], [7, 8]]])\n",
        "\n",
        "for x in np.nditer(arr):\n",
        "  print(x)"
      ],
      "metadata": {
        "colab": {
          "base_uri": "https://localhost:8080/"
        },
        "id": "f4jFNug9PW4A",
        "outputId": "56269bb3-fdcf-4bd9-c484-59315d72fb73"
      },
      "execution_count": 74,
      "outputs": [
        {
          "output_type": "stream",
          "name": "stdout",
          "text": [
            "1\n",
            "2\n",
            "3\n",
            "4\n",
            "5\n",
            "6\n",
            "7\n",
            "8\n"
          ]
        }
      ]
    },
    {
      "cell_type": "markdown",
      "source": [
        "---\n",
        "### 다른 데이터 타입으로 배열 반복\n",
        "- op_dtypes 인자를 사용해서 반복하는 동안 요소의 데이터 타입을 변경하고자 할 때 원하는 데이터 타입을 지정할 수 있습니다.\n",
        "- NumPy는 배열의 요소 자체(원본 배열)에서 데이터 타입을 직접 바꾸지 않기 때문에, 이 작업을 위해 별도의 공간이 필요합니다.\n",
        "- 이 추가 공간을 **버퍼(buffer)**라고 하며, nditer()에서 이를 활성화하려면 **flags=['buffered']**를 전달해야 합니다."
      ],
      "metadata": {
        "id": "X4ajRvwSQB8a"
      }
    },
    {
      "cell_type": "code",
      "source": [
        "import numpy as np\n",
        "\n",
        "arr = np.array([1, 2, 3])\n",
        "\n",
        "for x in np.nditer(arr, flags=['buffered'], op_dtypes=['S']):\n",
        "  print(x) #배열의 문자열로 반복"
      ],
      "metadata": {
        "colab": {
          "base_uri": "https://localhost:8080/"
        },
        "id": "1ABH9V1MQOJn",
        "outputId": "3b75229a-c664-4ec6-9fa4-38bea8856b7f"
      },
      "execution_count": 75,
      "outputs": [
        {
          "output_type": "stream",
          "name": "stdout",
          "text": [
            "np.bytes_(b'1')\n",
            "np.bytes_(b'2')\n",
            "np.bytes_(b'3')\n"
          ]
        }
      ]
    },
    {
      "cell_type": "code",
      "source": [
        "#다양한 단계 크기로 반복\n",
        "import numpy as np\n",
        "\n",
        "arr = np.array([[1, 2, 3, 4], [5, 6, 7, 8]])\n",
        "\n",
        "for x in np.nditer(arr[:, ::2]):\n",
        "  print(x)"
      ],
      "metadata": {
        "colab": {
          "base_uri": "https://localhost:8080/"
        },
        "id": "VxbNfrkFQTgZ",
        "outputId": "e623e3b1-bacb-40ae-a646-66ef867228e5"
      },
      "execution_count": 76,
      "outputs": [
        {
          "output_type": "stream",
          "name": "stdout",
          "text": [
            "1\n",
            "3\n",
            "5\n",
            "7\n"
          ]
        }
      ]
    },
    {
      "cell_type": "markdown",
      "source": [
        "### ndenumerate()를 사용한 열거형 반복\n",
        "- 열거란 어떤 것의 일련번호를 **하나하나 언급**하는 것을 의미합니다.\n",
        "- 반복하는 동안 해당 요소의 인덱스가 필요한 경우가 있는데, 이 ndenumerate()메서드는 이런 사용 사례에 사용할 수 있습니다."
      ],
      "metadata": {
        "id": "NQyXgmlJQZZx"
      }
    },
    {
      "cell_type": "code",
      "source": [
        "import numpy as np\n",
        "\n",
        "arr = np.array([1, 2, 3])\n",
        "\n",
        "for idx, x in np.ndenumerate(arr):\n",
        "  print(idx, x)"
      ],
      "metadata": {
        "colab": {
          "base_uri": "https://localhost:8080/"
        },
        "id": "sdB15styQdhF",
        "outputId": "2818bc77-27d6-4a7e-cc25-03a74e7cb16c"
      },
      "execution_count": 77,
      "outputs": [
        {
          "output_type": "stream",
          "name": "stdout",
          "text": [
            "(0,) 1\n",
            "(1,) 2\n",
            "(2,) 3\n"
          ]
        }
      ]
    },
    {
      "cell_type": "markdown",
      "source": [
        "# 4. NumPy 배열 결합"
      ],
      "metadata": {
        "id": "TibU20JTQ6_R"
      }
    },
    {
      "cell_type": "markdown",
      "source": [
        "- **결합**이란 두 개 이상의 배열 내용을 하나의 배열에 넣는 것을 의미합니다.\n",
        "\n",
        "- SQL에서는 키를 기준으로 테이블을 조인하지만, NumPy에서는 축을 기준으로 배열을 조인합니다.\n",
        "\n",
        "- 함수에 조인할 배열 시퀀스 **concatenate()**와 축을 함께 전달합니다. 축을 명시적으로 전달하지 않으면 0으로 간주됩니다."
      ],
      "metadata": {
        "id": "wmXEgkLuRBvr"
      }
    },
    {
      "cell_type": "code",
      "source": [
        "import numpy as np\n",
        "\n",
        "arr1 = np.array([1, 2, 3])\n",
        "\n",
        "arr2 = np.array([4, 5, 6])\n",
        "\n",
        "arr = np.concatenate((arr1, arr2))\n",
        "\n",
        "print(arr)"
      ],
      "metadata": {
        "colab": {
          "base_uri": "https://localhost:8080/"
        },
        "id": "CBzHPp7BRGNi",
        "outputId": "eab468ce-413f-475b-a4a1-12c533bebe85"
      },
      "execution_count": 78,
      "outputs": [
        {
          "output_type": "stream",
          "name": "stdout",
          "text": [
            "[1 2 3 4 5 6]\n"
          ]
        }
      ]
    },
    {
      "cell_type": "markdown",
      "source": [
        "---\n",
        "### 스택 함수를 사용하여 배열 결합\n",
        "- **스태킹**은 연결과 동일하며, 유일한 차이점은 스태킹이 새로운 축을 따라 수행된다는 것입니다.\n",
        "\n",
        "- 두 개의 1차원 배열을 두 번째 축을 따라 연결하면 배열을 서로 겹쳐 놓을 수 있습니다. 즉, 쌓기(stacking)라고 합니다.\n",
        "\n",
        "- 메서드 에 조인할 배열 시퀀스를 stack()축과 함께 전달합니다. 축을 명시적으로 전달하지 않으면 0으로 간주됩니다.\n",
        "\n"
      ],
      "metadata": {
        "id": "dyqRIMxsRLGN"
      }
    },
    {
      "cell_type": "code",
      "source": [
        "import numpy as np\n",
        "\n",
        "arr1 = np.array([1, 2, 3])\n",
        "\n",
        "arr2 = np.array([4, 5, 6])\n",
        "\n",
        "arr = np.stack((arr1, arr2), axis=1)\n",
        "\n",
        "print(arr)"
      ],
      "metadata": {
        "colab": {
          "base_uri": "https://localhost:8080/"
        },
        "id": "ipvNCXi-RQbh",
        "outputId": "eabe7ce5-76af-44c7-b13f-ecf41ba3ca54"
      },
      "execution_count": 79,
      "outputs": [
        {
          "output_type": "stream",
          "name": "stdout",
          "text": [
            "[[1 4]\n",
            " [2 5]\n",
            " [3 6]]\n"
          ]
        }
      ]
    },
    {
      "cell_type": "markdown",
      "source": [
        "---\n",
        "### 행을 따라 쌓기\n",
        "- NumPy는 행을 따라 쌓기 위해 hstack()이라는 보조 함수를 제공합니다."
      ],
      "metadata": {
        "id": "HJbfCFIbRWVU"
      }
    },
    {
      "cell_type": "code",
      "source": [
        "import numpy as np\n",
        "\n",
        "arr1 = np.array([1, 2, 3])\n",
        "\n",
        "arr2 = np.array([4, 5, 6])\n",
        "\n",
        "arr = np.hstack((arr1, arr2))\n",
        "\n",
        "print(arr)"
      ],
      "metadata": {
        "colab": {
          "base_uri": "https://localhost:8080/"
        },
        "id": "2ZlmsyUaRUWT",
        "outputId": "9365f8ac-eb5d-46d6-a034-edcba52bada6"
      },
      "execution_count": 80,
      "outputs": [
        {
          "output_type": "stream",
          "name": "stdout",
          "text": [
            "[1 2 3 4 5 6]\n"
          ]
        }
      ]
    },
    {
      "cell_type": "markdown",
      "source": [
        "---\n",
        "### 열을 따라 쌓기\n",
        "- NumPy는 열 방향(세로 방향)으로 쌓기 위해 vstack()이라는 보조 함수를 제공합니다."
      ],
      "metadata": {
        "id": "kUVvY1NvRl_p"
      }
    },
    {
      "cell_type": "code",
      "source": [
        "import numpy as np\n",
        "\n",
        "arr1 = np.array([1, 2, 3])\n",
        "\n",
        "arr2 = np.array([4, 5, 6])\n",
        "\n",
        "arr = np.vstack((arr1, arr2))\n",
        "\n",
        "print(arr)"
      ],
      "metadata": {
        "colab": {
          "base_uri": "https://localhost:8080/"
        },
        "id": "Qb_K4iJiRy3c",
        "outputId": "58560b93-e502-49e9-b8af-670a648bfdac"
      },
      "execution_count": 81,
      "outputs": [
        {
          "output_type": "stream",
          "name": "stdout",
          "text": [
            "[[1 2 3]\n",
            " [4 5 6]]\n"
          ]
        }
      ]
    },
    {
      "cell_type": "markdown",
      "source": [
        "---\n",
        "### 높이(깊이)에 따른 쌓기\n",
        "- NumPy는 높이(깊이) 방향으로 쌓기 위해 dstack()이라는 보조 함수를 제공합니다."
      ],
      "metadata": {
        "id": "t-4nNqR3R4GV"
      }
    },
    {
      "cell_type": "code",
      "source": [
        "import numpy as np\n",
        "\n",
        "arr1 = np.array([1, 2, 3])\n",
        "\n",
        "arr2 = np.array([4, 5, 6])\n",
        "\n",
        "arr = np.dstack((arr1, arr2))\n",
        "\n",
        "print(arr)"
      ],
      "metadata": {
        "colab": {
          "base_uri": "https://localhost:8080/"
        },
        "id": "9frTa0pDSC7Y",
        "outputId": "acda86a8-fe2f-41a1-ca92-65580e1a82c5"
      },
      "execution_count": 82,
      "outputs": [
        {
          "output_type": "stream",
          "name": "stdout",
          "text": [
            "[[[1 4]\n",
            "  [2 5]\n",
            "  [3 6]]]\n"
          ]
        }
      ]
    },
    {
      "cell_type": "markdown",
      "source": [
        "# 5. NumPy 배열 분할"
      ],
      "metadata": {
        "id": "fIbpAz5DSJdo"
      }
    },
    {
      "cell_type": "markdown",
      "source": [
        "- **분할(Splitting)**은 결합(Joining)의 **반대** 작업입니다.\n",
        "- 결합은 여러 배열을 하나로 합치는 것이고, 분할은 하나의 배열을 여러 개로 나누는 것입니다.\n",
        "- 배열을 분할할 때는 **array_split() 함수를 사용**하며, 분할하고자 하는 배열과 분할할 개수를 인자로 전달합니다."
      ],
      "metadata": {
        "id": "wKJ7WYh6SLjm"
      }
    },
    {
      "cell_type": "code",
      "source": [
        "import numpy as np\n",
        "\n",
        "arr = np.array([1, 2, 3, 4, 5, 6])\n",
        "\n",
        "newarr = np.array_split(arr, 3) #배열을 3개 부분으로 나눔\n",
        "\n",
        "print(newarr)"
      ],
      "metadata": {
        "colab": {
          "base_uri": "https://localhost:8080/"
        },
        "id": "mb7I0_cCSUm_",
        "outputId": "109ec387-b110-4725-ef7b-dda8abbafb43"
      },
      "execution_count": 83,
      "outputs": [
        {
          "output_type": "stream",
          "name": "stdout",
          "text": [
            "[array([1, 2]), array([3, 4]), array([5, 6])]\n"
          ]
        }
      ]
    },
    {
      "cell_type": "markdown",
      "source": [
        "---\n",
        "- array_split() 메소드의 반환값은 분할된 각각의 배열을 배열 형태로 담고 있는 배열입니다.\n",
        "- 만약 하나의 배열을 3개의 배열로 분할했다면, 결과에서 각 배열을 일반 배열 요소처럼 접근할 수 있습니다."
      ],
      "metadata": {
        "id": "b47UwQ72TTV6"
      }
    },
    {
      "cell_type": "code",
      "source": [
        "import numpy as np\n",
        "\n",
        "arr = np.array([1, 2, 3, 4, 5, 6])\n",
        "\n",
        "newarr = np.array_split(arr, 3)\n",
        "\n",
        "print(newarr[0])\n",
        "print(newarr[1])\n",
        "print(newarr[2])"
      ],
      "metadata": {
        "colab": {
          "base_uri": "https://localhost:8080/"
        },
        "id": "VklRDnfxTZi5",
        "outputId": "35c2ac4c-ad1c-4b01-99ae-bbff063c235a"
      },
      "execution_count": 84,
      "outputs": [
        {
          "output_type": "stream",
          "name": "stdout",
          "text": [
            "[1 2]\n",
            "[3 4]\n",
            "[5 6]\n"
          ]
        }
      ]
    },
    {
      "cell_type": "code",
      "source": [
        "#2차원 배열을 3개의 2차원 배열로 분할\n",
        "import numpy as np\n",
        "\n",
        "arr = np.array([[1, 2, 3], [4, 5, 6], [7, 8, 9], [10, 11, 12], [13, 14, 15], [16, 17, 18]])\n",
        "\n",
        "newarr = np.array_split(arr, 3)\n",
        "\n",
        "print(newarr)"
      ],
      "metadata": {
        "colab": {
          "base_uri": "https://localhost:8080/"
        },
        "id": "77AoJbWxTjje",
        "outputId": "d0ee9f34-2349-49e9-93e5-68297de5014d"
      },
      "execution_count": 85,
      "outputs": [
        {
          "output_type": "stream",
          "name": "stdout",
          "text": [
            "[array([[1, 2, 3],\n",
            "       [4, 5, 6]]), array([[ 7,  8,  9],\n",
            "       [10, 11, 12]]), array([[13, 14, 15],\n",
            "       [16, 17, 18]])]\n"
          ]
        }
      ]
    },
    {
      "cell_type": "markdown",
      "source": [
        "- 위의 예에서는 3개의 2차원 배열을 반환합니다.\n",
        "\n",
        "- 또한, 분할을 기준으로 삼을 축을 지정할 수 있습니다.\n"
      ],
      "metadata": {
        "id": "n6i4MUi6Tn5h"
      }
    },
    {
      "cell_type": "markdown",
      "source": [
        "---\n",
        "- 다른 방법으로는, hstack()의 반대 역할을 하는 hsplit()을 사용할 수 있습니다."
      ],
      "metadata": {
        "id": "E58V1HaWTwDf"
      }
    },
    {
      "cell_type": "code",
      "source": [
        "# hsplit()방법을 사용하여 2차원 배열을 열을 따라 3개의 2차원 배열로 분할합니다.\n",
        "\n",
        "import numpy as np\n",
        "\n",
        "arr = np.array([[1, 2, 3], [4, 5, 6], [7, 8, 9], [10, 11, 12], [13, 14, 15], [16, 17, 18]])\n",
        "\n",
        "newarr = np.hsplit(arr, 3)\n",
        "\n",
        "print(newarr)"
      ],
      "metadata": {
        "colab": {
          "base_uri": "https://localhost:8080/"
        },
        "id": "yxmPfB2CTqty",
        "outputId": "b73a9d29-cc6f-43cd-c206-fae0a27b0674"
      },
      "execution_count": 86,
      "outputs": [
        {
          "output_type": "stream",
          "name": "stdout",
          "text": [
            "[array([[ 1],\n",
            "       [ 4],\n",
            "       [ 7],\n",
            "       [10],\n",
            "       [13],\n",
            "       [16]]), array([[ 2],\n",
            "       [ 5],\n",
            "       [ 8],\n",
            "       [11],\n",
            "       [14],\n",
            "       [17]]), array([[ 3],\n",
            "       [ 6],\n",
            "       [ 9],\n",
            "       [12],\n",
            "       [15],\n",
            "       [18]])]\n"
          ]
        }
      ]
    },
    {
      "cell_type": "markdown",
      "source": [
        "# 6. NumPy 배열 검색"
      ],
      "metadata": {
        "id": "m3vO-gDsT_Yy"
      }
    },
    {
      "cell_type": "markdown",
      "source": [
        "- 배열에서 **특정 값**을 **검색**하고, 일치하는 값을 찾는 인덱스를 반환할 수 있습니다.\n",
        "\n",
        "- 배열을 검색하려면 이 **where()**메서드를 사용하세요.\n",
        "\n"
      ],
      "metadata": {
        "id": "VnQK0pdUUEmG"
      }
    },
    {
      "cell_type": "code",
      "source": [
        "import numpy as np\n",
        "\n",
        "arr = np.array([1, 2, 3, 4, 5, 4, 4])\n",
        "\n",
        "x = np.where(arr == 4)\n",
        "\n",
        "print(x) #값 4는 인덱스 3, 5, 6에 존재"
      ],
      "metadata": {
        "colab": {
          "base_uri": "https://localhost:8080/"
        },
        "id": "OoH7V_TYUHFo",
        "outputId": "eb247bc6-51b1-4af4-9ca8-4ef61160d2ce"
      },
      "execution_count": 87,
      "outputs": [
        {
          "output_type": "stream",
          "name": "stdout",
          "text": [
            "(array([3, 5, 6]),)\n"
          ]
        }
      ]
    },
    {
      "cell_type": "code",
      "source": [
        "#값이 짝수인 인덱스\n",
        "import numpy as np\n",
        "\n",
        "arr = np.array([1, 2, 3, 4, 5, 6, 7, 8])\n",
        "\n",
        "x = np.where(arr%2 == 0)\n",
        "\n",
        "print(x)"
      ],
      "metadata": {
        "colab": {
          "base_uri": "https://localhost:8080/"
        },
        "id": "TBVWycFIUal5",
        "outputId": "8cba3c32-3b5e-4093-df09-1985f31c03d1"
      },
      "execution_count": 88,
      "outputs": [
        {
          "output_type": "stream",
          "name": "stdout",
          "text": [
            "(array([1, 3, 5, 7]),)\n"
          ]
        }
      ]
    },
    {
      "cell_type": "code",
      "source": [
        "#값이 홀수인 인덱스\n",
        "import numpy as np\n",
        "\n",
        "arr = np.array([1, 2, 3, 4, 5, 6, 7, 8])\n",
        "\n",
        "x = np.where(arr%2 == 1)\n",
        "\n",
        "print(x)"
      ],
      "metadata": {
        "colab": {
          "base_uri": "https://localhost:8080/"
        },
        "id": "fA5j05vpUd2A",
        "outputId": "5f8cb1b8-3426-46e5-96ea-92b50516ecaa"
      },
      "execution_count": 89,
      "outputs": [
        {
          "output_type": "stream",
          "name": "stdout",
          "text": [
            "(array([0, 2, 4, 6]),)\n"
          ]
        }
      ]
    },
    {
      "cell_type": "code",
      "source": [
        "#값 7을 삽입해야 하는 인덱스를 찾으세요.\n",
        "import numpy as np\n",
        "\n",
        "arr = np.array([6, 7, 8, 9])\n",
        "\n",
        "x = np.searchsorted(arr, 7)\n",
        "\n",
        "print(x)"
      ],
      "metadata": {
        "colab": {
          "base_uri": "https://localhost:8080/"
        },
        "id": "LQ_2ndV9Ujn4",
        "outputId": "2a6a5d0c-bb55-4c28-999b-23b77415a180"
      },
      "execution_count": 90,
      "outputs": [
        {
          "output_type": "stream",
          "name": "stdout",
          "text": [
            "1\n"
          ]
        }
      ]
    },
    {
      "cell_type": "markdown",
      "source": [
        "- searchsorted()방법은 정렬된 배열에 사용되는 것으로 가정\n",
        "- 예시 설명: 정렬 순서를 유지하려면 숫자 7을 인덱스 1에 삽입해야 합니다.\n",
        "- 이 방법은 왼쪽에서 검색을 시작하여 숫자 7이 다음 값보다 더 크지 않은 첫 번째 인덱스를 반환합니다.\n",
        "---"
      ],
      "metadata": {
        "id": "FXNkOSMsUtqS"
      }
    },
    {
      "cell_type": "code",
      "source": [
        "import numpy as np\n",
        "\n",
        "arr = np.array([6, 7, 8, 9])\n",
        "\n",
        "x = np.searchsorted(arr, 7, side='right') #오른쪽부터 시작하여 값 7을 삽입해야 하는 인덱스를 찾으세요.\n",
        "\n",
        "print(x)"
      ],
      "metadata": {
        "colab": {
          "base_uri": "https://localhost:8080/"
        },
        "id": "VqY3eLFDV4Wy",
        "outputId": "4a1af847-b29d-4925-d3f4-7dfd1c469fd3"
      },
      "execution_count": 60,
      "outputs": [
        {
          "output_type": "stream",
          "name": "stdout",
          "text": [
            "2\n"
          ]
        }
      ]
    },
    {
      "cell_type": "markdown",
      "source": [
        "# 7. NumPy 정렬 배열"
      ],
      "metadata": {
        "id": "9KxefztOWSl1"
      }
    },
    {
      "cell_type": "markdown",
      "source": [
        "- **정렬(Sorting)**이란 요소들을 순서가 있는 **시퀀스(연속된 배열)**로 배치하는 것을 의미합니다.\n",
        "- 순서가 있는 시퀀스란 숫자나 알파벳처럼 요소들에 대응되는 순서가 있는, 오름차순이나 내림차순 등의 배열을 말합니다.\n",
        "- NumPy의 ndarray 객체에는 **sort()**라는 함수가 있어서, 지정한 배열을 정렬할 수 있습니다."
      ],
      "metadata": {
        "id": "CBbWvL0AWlJB"
      }
    },
    {
      "cell_type": "code",
      "source": [
        "import numpy as np\n",
        "\n",
        "arr = np.array([3, 2, 0, 1])\n",
        "\n",
        "print(np.sort(arr))\n"
      ],
      "metadata": {
        "colab": {
          "base_uri": "https://localhost:8080/"
        },
        "id": "qSExzGz5Wqli",
        "outputId": "d6811604-a739-4605-dc39-187a73d1f13d"
      },
      "execution_count": 61,
      "outputs": [
        {
          "output_type": "stream",
          "name": "stdout",
          "text": [
            "[0 1 2 3]\n"
          ]
        }
      ]
    },
    {
      "cell_type": "code",
      "source": [
        "import numpy as np\n",
        "\n",
        "arr = np.array(['banana', 'cherry', 'apple'])\n",
        "\n",
        "print(np.sort(arr)) #알파벳 순으로 정렬"
      ],
      "metadata": {
        "colab": {
          "base_uri": "https://localhost:8080/"
        },
        "id": "q4Cr-b5dWvV9",
        "outputId": "d778304f-b442-4e48-9b42-76af6eb46505"
      },
      "execution_count": 62,
      "outputs": [
        {
          "output_type": "stream",
          "name": "stdout",
          "text": [
            "['apple' 'banana' 'cherry']\n"
          ]
        }
      ]
    },
    {
      "cell_type": "code",
      "source": [
        "import numpy as np\n",
        "\n",
        "arr = np.array([True, False, True])\n",
        "\n",
        "print(np.sort(arr)) #부울의 배열을 정렬"
      ],
      "metadata": {
        "colab": {
          "base_uri": "https://localhost:8080/"
        },
        "id": "VOsYJvZrW0Sb",
        "outputId": "3e880403-a555-446d-e539-aa5f82cf7831"
      },
      "execution_count": 63,
      "outputs": [
        {
          "output_type": "stream",
          "name": "stdout",
          "text": [
            "[False  True  True]\n"
          ]
        }
      ]
    },
    {
      "cell_type": "code",
      "source": [
        "import numpy as np\n",
        "\n",
        "arr = np.array([[3, 2, 4], [5, 0, 1]])\n",
        "\n",
        "print(np.sort(arr)) #2차원 배열 정렬"
      ],
      "metadata": {
        "colab": {
          "base_uri": "https://localhost:8080/"
        },
        "id": "CBApkhKCW4t-",
        "outputId": "6ca53bb7-92fc-41bf-945f-9465b0cb131a"
      },
      "execution_count": 64,
      "outputs": [
        {
          "output_type": "stream",
          "name": "stdout",
          "text": [
            "[[2 3 4]\n",
            " [0 1 5]]\n"
          ]
        }
      ]
    },
    {
      "cell_type": "markdown",
      "source": [
        "# 8. NumPy 배열 필터링"
      ],
      "metadata": {
        "id": "voj-qUoFXEHB"
      }
    },
    {
      "cell_type": "markdown",
      "source": [
        "- 기존 배열에서 일부 요소를 뽑아 **새로운 배열**을 만드는 것을 **필터링(filtering)**이라고 합니다.\n",
        "- NumPy에서는 **불리언 인덱스 리스트(boolean index list)**를 사용해 배열을 필터링합니다.\n",
        "- 불리언 인덱스 리스트란 배열의 각 인덱스에 대응하는 불리언 값(True 또는 False)으로 이루어진 리스트입니다.\n",
        "- 해당 인덱스의 값이 True이면 그 요소가 필터링된 배열에 포함되고, False이면 그 요소는 필터링된 배열에서 제외됩니다."
      ],
      "metadata": {
        "id": "u6UnvBuXXPkB"
      }
    },
    {
      "cell_type": "code",
      "source": [
        "import numpy as np\n",
        "\n",
        "arr = np.array([41, 42, 43, 44])\n",
        "\n",
        "x = [True, False, True, False]\n",
        "\n",
        "newarr = arr[x]\n",
        "\n",
        "print(newarr) #인덱스의 0과2의 요소로 배열 출력"
      ],
      "metadata": {
        "colab": {
          "base_uri": "https://localhost:8080/"
        },
        "id": "5THQRu0BXV9Y",
        "outputId": "ba5ddd20-161d-48e0-f7e8-8c9ef646e05b"
      },
      "execution_count": 65,
      "outputs": [
        {
          "output_type": "stream",
          "name": "stdout",
          "text": [
            "[41 43]\n"
          ]
        }
      ]
    },
    {
      "cell_type": "code",
      "source": [
        "#42보다 큰 값만 반환하는 필터 배열을 만듭니다.\n",
        "import numpy as np\n",
        "\n",
        "arr = np.array([41, 42, 43, 44])\n",
        "\n",
        "# 빈 리스트 생성\n",
        "filter_arr = []\n",
        "\n",
        "# arr의 각 요소를 순회\n",
        "for element in arr:\n",
        "  # 만약 요소가 42보다 크면 True, 아니면 False를 추가\n",
        "  if element > 42:\n",
        "    filter_arr.append(True)\n",
        "  else:\n",
        "    filter_arr.append(False)\n",
        "\n",
        "newarr = arr[filter_arr]\n",
        "\n",
        "print(filter_arr)\n",
        "print(newarr)"
      ],
      "metadata": {
        "colab": {
          "base_uri": "https://localhost:8080/"
        },
        "id": "e7WSZlkGXdpr",
        "outputId": "93a69664-7cc9-43a2-962c-0d3b6cf11606"
      },
      "execution_count": 66,
      "outputs": [
        {
          "output_type": "stream",
          "name": "stdout",
          "text": [
            "[False, False, True, True]\n",
            "[43 44]\n"
          ]
        }
      ]
    },
    {
      "cell_type": "code",
      "source": [
        "#조건에서 반복 가능한 변수 대신 배열을 직접 대체할 수 있다\n",
        "import numpy as np\n",
        "\n",
        "arr = np.array([41, 42, 43, 44])\n",
        "\n",
        "filter_arr = arr > 42\n",
        "\n",
        "newarr = arr[filter_arr]\n",
        "\n",
        "print(filter_arr)\n",
        "print(newarr) #결과는 위와 같음"
      ],
      "metadata": {
        "colab": {
          "base_uri": "https://localhost:8080/"
        },
        "id": "8Jmbf6r6X_bh",
        "outputId": "bcc9790b-bf77-4e89-c66d-61e38b3eec9e"
      },
      "execution_count": 67,
      "outputs": [
        {
          "output_type": "stream",
          "name": "stdout",
          "text": [
            "[False False  True  True]\n",
            "[43 44]\n"
          ]
        }
      ]
    },
    {
      "cell_type": "code",
      "source": [
        "#원래 배열에서 짝수 요소만 반환하는 필터 배열을 만듭니다.\n",
        "\n",
        "import numpy as np\n",
        "\n",
        "arr = np.array([1, 2, 3, 4, 5, 6, 7])\n",
        "\n",
        "# 빈 리스트 생성\n",
        "filter_arr = []\n",
        "\n",
        "# arr의 각 요소를 순회\n",
        "for element in arr:\n",
        "  # 요소가 2로 나누어 떨어지면 True, 아니면 False를 추가\n",
        "  if element % 2 == 0:\n",
        "    filter_arr.append(True)\n",
        "  else:\n",
        "    filter_arr.append(False)\n",
        "\n",
        "newarr = arr[filter_arr]\n",
        "\n",
        "print(filter_arr)\n",
        "print(newarr)\n"
      ],
      "metadata": {
        "colab": {
          "base_uri": "https://localhost:8080/"
        },
        "id": "Yvi_HIDIXu0k",
        "outputId": "d9c68ea9-e12f-4f4c-a48c-b77efc9bd4dc"
      },
      "execution_count": 68,
      "outputs": [
        {
          "output_type": "stream",
          "name": "stdout",
          "text": [
            "[False, True, False, True, False, True, False]\n",
            "[2 4 6]\n"
          ]
        }
      ]
    },
    {
      "cell_type": "code",
      "source": [
        "#조건에서 반복 가능한 변수 대신 배열을 직접 대체할 수 있다\n",
        "import numpy as np\n",
        "\n",
        "arr = np.array([1, 2, 3, 4, 5, 6, 7])\n",
        "\n",
        "filter_arr = arr % 2 == 0\n",
        "\n",
        "newarr = arr[filter_arr]\n",
        "\n",
        "print(filter_arr)\n",
        "print(newarr) #결과는 위와 같음"
      ],
      "metadata": {
        "colab": {
          "base_uri": "https://localhost:8080/"
        },
        "id": "qS5yDrQeYHUh",
        "outputId": "d195a120-fd60-4366-99e9-658305abf090"
      },
      "execution_count": 69,
      "outputs": [
        {
          "output_type": "stream",
          "name": "stdout",
          "text": [
            "[False  True False  True False  True False]\n",
            "[2 4 6]\n"
          ]
        }
      ]
    }
  ]
}