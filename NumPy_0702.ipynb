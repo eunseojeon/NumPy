{
  "nbformat": 4,
  "nbformat_minor": 0,
  "metadata": {
    "colab": {
      "provenance": [],
      "authorship_tag": "ABX9TyN8Rs7tNwcjA8YwxpHr9E0m",
      "include_colab_link": true
    },
    "kernelspec": {
      "name": "python3",
      "display_name": "Python 3"
    },
    "language_info": {
      "name": "python"
    }
  },
  "cells": [
    {
      "cell_type": "markdown",
      "metadata": {
        "id": "view-in-github",
        "colab_type": "text"
      },
      "source": [
        "<a href=\"https://colab.research.google.com/github/eunseojeon/NumPy/blob/main/NumPy_0702.ipynb\" target=\"_parent\"><img src=\"https://colab.research.google.com/assets/colab-badge.svg\" alt=\"Open In Colab\"/></a>"
      ]
    },
    {
      "cell_type": "markdown",
      "source": [
        "## 📖 NumPy란?"
      ],
      "metadata": {
        "id": "1A79cRM14ZMu"
      }
    },
    {
      "cell_type": "markdown",
      "source": [
        "- NumPy는 파이썬에서 **고성능의 수치 계산**과 **다차원 배열(array) 데이터 처리**를 위해 널리 사용되는 라이브러리입니다.\n",
        "- \"Numerical Python\"의 줄임말입니다.\n",
        "- **다차원 배열(ndarray) 지원**:\n",
        "NumPy의 핵심 객체는 ndarray로, 동일한 데이터 타입을 갖는 원소들로 구성된 다차원 배열입니다. 이 배열은 파이썬의 기본 리스트보다 훨씬 빠르고 효율적으로 대량의 데이터를 처리할 수 있습니다.\n",
        "- **벡터화 연산**: NumPy 배열은 반복문 없이도 배열 전체에 대해 연산(사칙연산, 비교 등)을 빠르게 수행할 수 있습니다. 이를 벡터화 연산이라고 하며, 데이터 분석과 과학 계산에서 매우 유용합니다.\n",
        "- **다양한 수학 함수와 연산 지원**: 선형대수, 푸리에 변환, 난수 생성, 통계, 브로드캐스팅(서로 다른 크기의 배열 간 연산) 등 다양한 수학적 연산을 지원.\n",
        "- **배열 생성 및 조작**: 다양한 방식으로 배열을 생성할 수 있습니다. 예를 들어, np.array, np.arange, np.zeros, np.ones, np.random 등 함수가 제공됩니다. 배열의 모양(shape) 변경, 인덱싱, 슬라이싱, 결합, 분할 등도 간편하게 할 수 있습니다.\n",
        "- **다른 라이브러리와의 연계**: pandas, matplotlib, SciPy 등 데이터 분석 및 시각화, 과학 연구용 라이브러리들과 함께 사용되어 파이썬 데이터 생태계의 핵심 기반이 됩니다."
      ],
      "metadata": {
        "id": "gdFB73WX5LNe"
      }
    },
    {
      "cell_type": "markdown",
      "source": [
        "### ❓ 왜 NumPy를 사용해야 하나요"
      ],
      "metadata": {
        "id": "xQrGl9Hz4iDT"
      }
    },
    {
      "cell_type": "markdown",
      "source": [
        "- 파이썬에서는 배열의 역할을 하는 리스트가 있지만, 처리 속도가 느립니다.\n",
        "\n",
        "- NumPy는 기존 Python 리스트보다 **최대 50배 빠른 배열 객체를 제공**하는 것을 목표로 합니다.\n",
        "\n",
        "- NumPy의 배열 객체는 **ndarray** 라고 불리며, **ndarray** 작업을 매우 쉽게 만드는 많은 지원 함수를 제공합니다.\n",
        "\n",
        "- 배열은 속도와 리소스가 매우 중요한 데이터 과학에서 매우 자주 사용됩니다.\n",
        "\n",
        "*(데이터 과학: 데이터를 저장하고, 사용하고, 분석하여 정보를 도출하는 방법을 연구하는 컴퓨터 과학의 한 분야)*"
      ],
      "metadata": {
        "id": "pY0Rg-rp4qs5"
      }
    },
    {
      "cell_type": "markdown",
      "source": [
        "### 🏃🏻‍♀️ NumPy가 리스트보다 빠른 이유"
      ],
      "metadata": {
        "id": "QQeJLDxQ7jWA"
      }
    },
    {
      "cell_type": "markdown",
      "source": [
        "- **연속적인(Contiguous) 메모리 저장**: 넘파이 배열은 메모리상에 한 번에 연속적으로 저장되어 있어 CPU가 데이터를 더 빠르게 읽고 쓸 수 있지만, 반면 파이썬 리스트는 각 요소가 분산되어 저장되고 각 요소마다 포인터를 따라가야 하므로 접근 속도가 느립니다.\n",
        "- **벡터화 및 C로 구현된 연산**: 넘파이는 반복문 없이 배열 전체에 연산을 적용하는 벡터화를 지원하며, 대부분의 연산이 파이썬이 아닌 C(혹은 Fortran)로 구현되어 있습니다. 이로 인해 파이썬 인터프리터의 오버헤드 없이 매우 빠르게 계산이 이루어집니다.\n",
        "- **동일한 데이터 타입(고정형) 사용**: 넘파이 배열은 모든 요소가 동일한 데이터 타입을 가지므로 타입 체크나 변환 과정이 필요 없어 연산이 빠릅니다. 반면 파이썬 리스트는 다양한 타입을 섞어 담을 수 있어 연산 시마다 타입 체크가 필요해 느려집니다"
      ],
      "metadata": {
        "id": "BBFCxmGa7riv"
      }
    },
    {
      "cell_type": "markdown",
      "source": [
        "### **📝 NumPy 배열 생성**"
      ],
      "metadata": {
        "id": "CpdtOixq8UPb"
      }
    },
    {
      "cell_type": "code",
      "source": [
        "import numpy\n",
        "\n",
        "arr = numpy.array([1, 2, 3, 4, 5])\n",
        "\n",
        "print(arr)"
      ],
      "metadata": {
        "colab": {
          "base_uri": "https://localhost:8080/"
        },
        "id": "fTd7Co3B8SOz",
        "outputId": "0498b209-1dca-4998-cb6f-111fab346962"
      },
      "execution_count": null,
      "outputs": [
        {
          "output_type": "stream",
          "name": "stdout",
          "text": [
            "[1 2 3 4 5]\n"
          ]
        }
      ]
    },
    {
      "cell_type": "markdown",
      "source": [
        "- import키워드를 추가하여 애플리케이션에 가져옵니다.\n",
        "---"
      ],
      "metadata": {
        "id": "ckF7f0f68lw4"
      }
    },
    {
      "cell_type": "code",
      "source": [
        "import numpy as np\n",
        "\n",
        "arr = np.array([1, 2, 3, 4, 5])\n",
        "\n",
        "print(arr)"
      ],
      "metadata": {
        "colab": {
          "base_uri": "https://localhost:8080/"
        },
        "id": "I9tfqbP08pbu",
        "outputId": "4751a334-616e-4ad5-8f02-3d0ea800e6b7"
      },
      "execution_count": null,
      "outputs": [
        {
          "output_type": "stream",
          "name": "stdout",
          "text": [
            "[1 2 3 4 5]\n"
          ]
        }
      ]
    },
    {
      "cell_type": "markdown",
      "source": [
        "- NumPy는 일반적으로 **np** 별칭으로 가져옵니다.\n",
        "---"
      ],
      "metadata": {
        "id": "JGYp40hY8u5J"
      }
    },
    {
      "cell_type": "code",
      "source": [
        "import numpy as np\n",
        "\n",
        "arr = np.array([1, 2, 3, 4, 5])\n",
        "\n",
        "print(arr)"
      ],
      "metadata": {
        "colab": {
          "base_uri": "https://localhost:8080/"
        },
        "id": "R3r74vRv8wKu",
        "outputId": "02eaa06b-946f-4735-87ce-34f3aa3eb58e"
      },
      "execution_count": null,
      "outputs": [
        {
          "output_type": "stream",
          "name": "stdout",
          "text": [
            "[1 2 3 4 5]\n"
          ]
        }
      ]
    },
    {
      "cell_type": "markdown",
      "source": [
        "- 가져오는 동안 키워드 **as** 로 별칭을 만듭니다.\n",
        "---"
      ],
      "metadata": {
        "id": "El1KNRiD81Vi"
      }
    },
    {
      "cell_type": "code",
      "source": [
        "import numpy as np\n",
        "\n",
        "print(np.__version__)"
      ],
      "metadata": {
        "colab": {
          "base_uri": "https://localhost:8080/"
        },
        "id": "Oy5nEQIm88_1",
        "outputId": "ac60902c-af57-401a-8952-836174d3acd1"
      },
      "execution_count": null,
      "outputs": [
        {
          "output_type": "stream",
          "name": "stdout",
          "text": [
            "2.0.2\n"
          ]
        }
      ]
    },
    {
      "cell_type": "markdown",
      "source": [
        "- 버전 문자열은 __version__ 속성에 저장\n",
        "- 2.0.2가 출력된 이유: 현재 컴퓨터에 Numpy 2.0.2 버전이 설치되어 있기 때문\n",
        "---"
      ],
      "metadata": {
        "id": "ycdosDyN9EAU"
      }
    },
    {
      "cell_type": "code",
      "source": [
        "import numpy as np\n",
        "\n",
        "arr = np.array([1, 2, 3, 4, 5])\n",
        "\n",
        "print(arr)\n",
        "\n",
        "print(type(arr))"
      ],
      "metadata": {
        "colab": {
          "base_uri": "https://localhost:8080/"
        },
        "id": "SvoAuBJ69GGo",
        "outputId": "3ce61cc7-7ba0-4644-af18-1fc4648b9277"
      },
      "execution_count": null,
      "outputs": [
        {
          "output_type": "stream",
          "name": "stdout",
          "text": [
            "[1 2 3 4 5]\n",
            "<class 'numpy.ndarray'>\n"
          ]
        }
      ]
    },
    {
      "cell_type": "markdown",
      "source": [
        "- NumPy의 배열 객체는 ndarray.\n",
        "\n",
        "- array() 함수를 사용하여 NumPy ndarray 객체를 만들 수 있습니다.\n",
        "---"
      ],
      "metadata": {
        "id": "KRJ2CZBH9gL4"
      }
    },
    {
      "cell_type": "code",
      "source": [
        "import numpy as np\n",
        "\n",
        "arr = np.array((1, 2, 3, 4, 5)) #튜플을 사용해 Numpy 배열을 생성\n",
        "\n",
        "print(arr)"
      ],
      "metadata": {
        "colab": {
          "base_uri": "https://localhost:8080/"
        },
        "id": "GjT5w8zi9g1C",
        "outputId": "c6a92056-c9da-4c2b-86a8-012c129826cf"
      },
      "execution_count": null,
      "outputs": [
        {
          "output_type": "stream",
          "name": "stdout",
          "text": [
            "[1 2 3 4 5]\n"
          ]
        }
      ]
    },
    {
      "cell_type": "code",
      "source": [
        "import numpy as np\n",
        "\n",
        "arr = np.array(42) #값이 42인 0차원 배열을 만든다.\n",
        "\n",
        "print(arr)"
      ],
      "metadata": {
        "colab": {
          "base_uri": "https://localhost:8080/"
        },
        "id": "l0yxeh6ZCf5i",
        "outputId": "4596cdf9-db59-49c9-dccb-b96473c446f5"
      },
      "execution_count": null,
      "outputs": [
        {
          "output_type": "stream",
          "name": "stdout",
          "text": [
            "42\n"
          ]
        }
      ]
    },
    {
      "cell_type": "code",
      "source": [
        "import numpy as np\n",
        "\n",
        "arr = np.array([1, 2, 3, 4, 5]) #1,2,3,4,5 값을 포함하는 1차원 배열\n",
        "\n",
        "print(arr)"
      ],
      "metadata": {
        "colab": {
          "base_uri": "https://localhost:8080/"
        },
        "id": "bI2TMjduE-pl",
        "outputId": "c08c210a-a7e0-4d48-8d14-afdee10cbdab"
      },
      "execution_count": null,
      "outputs": [
        {
          "output_type": "stream",
          "name": "stdout",
          "text": [
            "[1 2 3 4 5]\n"
          ]
        }
      ]
    },
    {
      "cell_type": "code",
      "source": [
        "import numpy as np\n",
        "\n",
        "arr = np.array([[1, 2, 3], [4, 5, 6]]) #1, 2, 3과 4, 5, 6 값을 갖는 두 개의 배열을 포함하는 2차원 배열\n",
        "\n",
        "print(arr)"
      ],
      "metadata": {
        "colab": {
          "base_uri": "https://localhost:8080/"
        },
        "id": "rEgjFzyEFDgW",
        "outputId": "3e4f9a99-a10f-40bf-c357-befc8f801060"
      },
      "execution_count": null,
      "outputs": [
        {
          "output_type": "stream",
          "name": "stdout",
          "text": [
            "[[1 2 3]\n",
            " [4 5 6]]\n"
          ]
        }
      ]
    },
    {
      "cell_type": "code",
      "source": [
        "import numpy as np\n",
        "\n",
        "a = np.array(42)\n",
        "b = np.array([1, 2, 3, 4, 5])\n",
        "c = np.array([[1, 2, 3], [4, 5, 6]])\n",
        "d = np.array([[[1, 2, 3], [4, 5, 6]], [[1, 2, 3], [4, 5, 6]]])\n",
        "\n",
        "print(a.ndim)\n",
        "print(b.ndim)\n",
        "print(c.ndim)\n",
        "print(d.ndim)"
      ],
      "metadata": {
        "colab": {
          "base_uri": "https://localhost:8080/"
        },
        "id": "fGkyTQxhJ5J_",
        "outputId": "b4c45c9d-8d4f-400e-92d1-7e2c53b1ff4f"
      },
      "execution_count": null,
      "outputs": [
        {
          "output_type": "stream",
          "name": "stdout",
          "text": [
            "0\n",
            "1\n",
            "2\n",
            "3\n"
          ]
        }
      ]
    },
    {
      "cell_type": "markdown",
      "source": [
        "- NumPy Arrays는 ndim배열의 차원 수를 알려주는 정수를 반환하는 속성을 제공\n",
        "---"
      ],
      "metadata": {
        "id": "QExcYg-FJ8js"
      }
    },
    {
      "cell_type": "code",
      "source": [
        "import numpy as np\n",
        "\n",
        "arr = np.array([1, 2, 3, 4], ndmin=5) #고차원 배열(여기서는 5차원)\n",
        "\n",
        "print(arr)\n",
        "print('number of dimensions :', arr.ndim)"
      ],
      "metadata": {
        "colab": {
          "base_uri": "https://localhost:8080/"
        },
        "id": "nDEEnRsjJ-ic",
        "outputId": "1995854f-a3d1-405d-8cee-bed507d2e7aa"
      },
      "execution_count": null,
      "outputs": [
        {
          "output_type": "stream",
          "name": "stdout",
          "text": [
            "[[[[[1 2 3 4]]]]]\n",
            "number of dimensions : 5\n"
          ]
        }
      ]
    },
    {
      "cell_type": "markdown",
      "source": [
        "### **NumPy 배열 인덱싱**"
      ],
      "metadata": {
        "id": "tw1e8LeJKQUS"
      }
    },
    {
      "cell_type": "markdown",
      "source": [
        "- 배열 인덱싱은 배열 요소에 액세스하는 것과 같습니다.\n",
        "\n",
        "- 배열 요소에 접근하려면 인덱스 번호를 참조하면 됩니다.\n",
        "\n",
        "- NumPy 배열의 인덱스는 0부터 시작합니다. 즉, 첫 번째 요소의 인덱스는 0이고, 두 번째 요소의 인덱스는 1입니다."
      ],
      "metadata": {
        "id": "k-clDXmvKZ7a"
      }
    },
    {
      "cell_type": "code",
      "source": [
        "import numpy as np\n",
        "\n",
        "arr = np.array([1, 2, 3, 4])\n",
        "\n",
        "print(arr[0]) #첫번째 요소를 가져옴"
      ],
      "metadata": {
        "colab": {
          "base_uri": "https://localhost:8080/"
        },
        "id": "j8Ug6IEXKXDM",
        "outputId": "d560e3a0-b1e8-4985-ea73-7d11c4869d71"
      },
      "execution_count": null,
      "outputs": [
        {
          "output_type": "stream",
          "name": "stdout",
          "text": [
            "1\n"
          ]
        }
      ]
    },
    {
      "cell_type": "code",
      "source": [
        "import numpy as np\n",
        "\n",
        "arr = np.array([1, 2, 3, 4])\n",
        "\n",
        "print(arr[2] + arr[3]) #세번째와 네번째 요소를 가져와서 더함"
      ],
      "metadata": {
        "colab": {
          "base_uri": "https://localhost:8080/"
        },
        "id": "hvZq-geuGcHV",
        "outputId": "de103f3e-d42b-4930-a8b8-674c0c69e96a"
      },
      "execution_count": null,
      "outputs": [
        {
          "output_type": "stream",
          "name": "stdout",
          "text": [
            "7\n"
          ]
        }
      ]
    },
    {
      "cell_type": "code",
      "source": [
        "import numpy as np\n",
        "\n",
        "arr = np.array([[1,2,3,4,5], [6,7,8,9,10]])\n",
        "\n",
        "print('첫 번째 행의 두 번째 요소:', arr[0, 1])\n",
        "#2번째 행, 5번째 열의 요소에 접근"
      ],
      "metadata": {
        "colab": {
          "base_uri": "https://localhost:8080/"
        },
        "id": "_PISR8uiGkTZ",
        "outputId": "2253e2a0-dfa5-4a95-ff44-a8535c3244b9"
      },
      "execution_count": null,
      "outputs": [
        {
          "output_type": "stream",
          "name": "stdout",
          "text": [
            "첫 번째 행의 두 번째 요소: 2\n"
          ]
        }
      ]
    },
    {
      "cell_type": "code",
      "source": [
        "import numpy as np\n",
        "\n",
        "arr = np.array([[[1, 2, 3], [4, 5, 6]], [[7, 8, 9], [10, 11, 12]]])\n",
        "\n",
        "print(arr[0, 1, 2])"
      ],
      "metadata": {
        "colab": {
          "base_uri": "https://localhost:8080/"
        },
        "id": "fae_yli6JDvM",
        "outputId": "59bd8b2e-7e83-4a5f-cdb2-f267509c7f52"
      },
      "execution_count": null,
      "outputs": [
        {
          "output_type": "stream",
          "name": "stdout",
          "text": [
            "6\n"
          ]
        }
      ]
    },
    {
      "cell_type": "markdown",
      "source": [
        "- 첫 번째 숫자는 두 개의 배열 [[1, 2, 3], [4, 5, 6]]과[[7, 8, 9], [10, 11, 12]]을 나타\n",
        "냅니다. 0을 선택했으므로 0첫 번째 배열\n",
        "[[1, 2, 3] , [4, 5, 6]]이 남습니다.\n",
        "\n",
        "- 두 번째 숫자는 두 개의 배열 [1, 2, 3]과 [4, 5, 6] 을 나타냅니다. 1을 선택했으므로 두 번째 배열 [4, 5, 6]이 남습니다.\n",
        "\n",
        "- 세 번째 숫자는 세 개의 값(4, 5, 6)을 나타냅니다.\n",
        "2를 선택했으므로 세 번째 값**(6)** 이 답이 됩니다.\n",
        "---"
      ],
      "metadata": {
        "id": "Ln1vt0nCJOw4"
      }
    },
    {
      "cell_type": "code",
      "source": [
        "import numpy as np\n",
        "\n",
        "arr = np.array([[1,2,3,4,5], [6,7,8,9,10]])\n",
        "\n",
        "print('두 번째 행의 마지막 요소:', arr[1, -1]) #음수 인덱싱"
      ],
      "metadata": {
        "colab": {
          "base_uri": "https://localhost:8080/"
        },
        "id": "UJIlgEKOJ4aa",
        "outputId": "0d30c069-65b1-49f1-96ed-a709eb97db3e"
      },
      "execution_count": null,
      "outputs": [
        {
          "output_type": "stream",
          "name": "stdout",
          "text": [
            "두 번째 행의 마지막 요소: 10\n"
          ]
        }
      ]
    },
    {
      "cell_type": "markdown",
      "source": [
        "### **NumPy 배열 Slicing**"
      ],
      "metadata": {
        "id": "GUWqwg61KqJw"
      }
    },
    {
      "cell_type": "markdown",
      "source": [
        "- 파이썬에서 슬라이싱은 주어진 인덱스에서 다른 주어진 인덱스로 요소를 옮기는 것을 의미합니다.\n",
        "\n",
        "- 인덱스 대신 슬라이스를 이렇게 전달합니다: [start:end]\n",
        "\n",
        "- 다음과 같이 단계를 정의할 수도 있습니다 : [start:end:step]\n",
        "\n",
        "- 시작을 통과하지 못하면 0으로 간주됩니다.\n",
        "\n",
        "- 우리가 end를 전달하지 않으면 해당 차원의 배열의 길이가 고려됩니다.\n",
        "\n",
        "- 만약 우리가 단계를 통과하지 못한다면 그것은 1로 간주됩니다"
      ],
      "metadata": {
        "id": "mSb9p6DgK2Us"
      }
    },
    {
      "cell_type": "code",
      "source": [
        "import numpy as np\n",
        "\n",
        "arr = np.array([1, 2, 3, 4, 5, 6, 7])\n",
        "\n",
        "print(arr[1:5]) #인덱스 1부터 5까지의 요소를 슬라이스"
      ],
      "metadata": {
        "colab": {
          "base_uri": "https://localhost:8080/"
        },
        "id": "tlFW1GzvK_u5",
        "outputId": "3bf3836b-b2a0-4213-8e00-b3079b3ad79b"
      },
      "execution_count": null,
      "outputs": [
        {
          "output_type": "stream",
          "name": "stdout",
          "text": [
            "[2 3 4 5]\n"
          ]
        }
      ]
    },
    {
      "cell_type": "markdown",
      "source": [
        "*- 참고: 결과 에 시작 인덱스는 포함되지만 끝 인덱스는 제외됩니다 .*"
      ],
      "metadata": {
        "id": "y4VNaQBsLIQ1"
      }
    },
    {
      "cell_type": "code",
      "source": [
        "import numpy as np\n",
        "\n",
        "arr = np.array([1, 2, 3, 4, 5, 6, 7])\n",
        "\n",
        "print(arr[4:]) #인덱스 4번부터 끝까지 출력"
      ],
      "metadata": {
        "colab": {
          "base_uri": "https://localhost:8080/"
        },
        "id": "rPKU_kRLLNk6",
        "outputId": "abb03947-eeb3-4491-e946-3a36106b401f"
      },
      "execution_count": null,
      "outputs": [
        {
          "output_type": "stream",
          "name": "stdout",
          "text": [
            "[5 6 7]\n"
          ]
        }
      ]
    },
    {
      "cell_type": "code",
      "source": [
        "import numpy as np\n",
        "\n",
        "arr = np.array([1, 2, 3, 4, 5, 6, 7])\n",
        "\n",
        "print(arr[1:5:2])"
      ],
      "metadata": {
        "colab": {
          "base_uri": "https://localhost:8080/"
        },
        "id": "QqJS2BGmLbRd",
        "outputId": "f84ce834-695d-4b13-ddb3-31c01691114a"
      },
      "execution_count": null,
      "outputs": [
        {
          "output_type": "stream",
          "name": "stdout",
          "text": [
            "[2 4]\n"
          ]
        }
      ]
    },
    {
      "cell_type": "markdown",
      "source": [
        "**arr[1:5:2]의 의미**\n",
        "- 1: 시작 인덱스(포함) → 두 번째 요소부터 (값: 2)\n",
        "- 5: 끝 인덱스(미포함) → 여섯 번째 요소 전까지 (값: 6 전까지)\n",
        "- 2: 간격(스텝) → 두 칸씩 건너뜀"
      ],
      "metadata": {
        "id": "H4vEE65nL4yA"
      }
    },
    {
      "cell_type": "code",
      "source": [
        "import numpy as np\n",
        "\n",
        "arr = np.array([1, 2, 3, 4, 5, 6, 7])\n",
        "\n",
        "print(arr[::2]) #처음부터 끝까지 2칸씩 건너뛰며 값 추출"
      ],
      "metadata": {
        "colab": {
          "base_uri": "https://localhost:8080/"
        },
        "id": "kP8UJYrcL8x-",
        "outputId": "8cd408fd-f606-4614-d57b-a586bc2dcf8b"
      },
      "execution_count": null,
      "outputs": [
        {
          "output_type": "stream",
          "name": "stdout",
          "text": [
            "[1 3 5 7]\n"
          ]
        }
      ]
    },
    {
      "cell_type": "code",
      "source": [
        "import numpy as np\n",
        "\n",
        "arr = np.array([[1, 2, 3, 4, 5], [6, 7, 8, 9, 10]])\n",
        "\n",
        "print(arr[0:2, 2]) #두 요소에서 인덱스 2를 반환"
      ],
      "metadata": {
        "colab": {
          "base_uri": "https://localhost:8080/"
        },
        "id": "ORXOAz24Nk_5",
        "outputId": "1f74ea49-255c-4080-8407-a98f2de3daf6"
      },
      "execution_count": null,
      "outputs": [
        {
          "output_type": "stream",
          "name": "stdout",
          "text": [
            "[3 8]\n"
          ]
        }
      ]
    },
    {
      "cell_type": "code",
      "source": [
        "import numpy as np\n",
        "\n",
        "arr = np.array([[1, 2, 3, 4, 5], [6, 7, 8, 9, 10]])\n",
        "\n",
        "print(arr[0:2, 1:4])"
      ],
      "metadata": {
        "colab": {
          "base_uri": "https://localhost:8080/"
        },
        "id": "IuUe-BFhNscC",
        "outputId": "e685c960-73d6-46ee-a53d-bb280c683430"
      },
      "execution_count": null,
      "outputs": [
        {
          "output_type": "stream",
          "name": "stdout",
          "text": [
            "[[2 3 4]\n",
            " [7 8 9]]\n"
          ]
        }
      ]
    },
    {
      "cell_type": "markdown",
      "source": [
        "### **NumPy 데이터 유형**"
      ],
      "metadata": {
        "id": "SvcmCGlnNy9v"
      }
    },
    {
      "cell_type": "markdown",
      "source": [
        "- NumPy에는 몇 가지 추가 데이터 타입이 있으며, 데이터 타입을 한 글자로 나타냅니다.\n",
        "- 예를 들어, 정수는 i, 부호 없는 정수는 u 등으로 표시합니다."
      ],
      "metadata": {
        "id": "V7vux4IhN6ZT"
      }
    },
    {
      "cell_type": "markdown",
      "source": [
        "- 아래는 NumPy의 모든 데이터 타입과 이를 나타내는 문자 목록입니다."
      ],
      "metadata": {
        "id": "iA4o-6QBOFnf"
      }
    },
    {
      "cell_type": "markdown",
      "source": [
        "| 문자 목록 | 데이터 타입 | 영어로 |\n",
        "| --------- | ---------------- | -------------------------- |\n",
        "i | 정수 | integer\n",
        "b | 불리언 | boolean\n",
        "u | 부호 없는 정수 | unsigned integer\n",
        "f | 부동 소수점 | float\n",
        "c | 복소수 | complex float\n",
        "m | 시간 간격 | timedelta\n",
        "M | 날짜/시간 | datetime\n",
        "O | 객체 | object\n",
        "S | 문자열 | string\n",
        "U | 유니코드 문자열 | unicode string\n",
        "V | 고정 메모리 조각 | fixed chunk of memory (void)"
      ],
      "metadata": {
        "id": "7MDybf8SOJKa"
      }
    },
    {
      "cell_type": "code",
      "source": [
        "import numpy as np\n",
        "\n",
        "arr = np.array([1, 2, 3, 4])\n",
        "\n",
        "print(arr.dtype) #배열의 데이터 유형 출력"
      ],
      "metadata": {
        "colab": {
          "base_uri": "https://localhost:8080/"
        },
        "id": "FIDczg8yPEip",
        "outputId": "f69193fa-69a3-43b0-872e-f214a94af98e"
      },
      "execution_count": null,
      "outputs": [
        {
          "output_type": "stream",
          "name": "stdout",
          "text": [
            "int64\n"
          ]
        }
      ]
    },
    {
      "cell_type": "code",
      "source": [
        "import numpy as np\n",
        "\n",
        "arr = np.array(['apple', 'banana', 'cherry'])\n",
        "\n",
        "print(arr.dtype) #문자열을 포함하는 배열의 데이터 유형을 가져옴"
      ],
      "metadata": {
        "colab": {
          "base_uri": "https://localhost:8080/"
        },
        "id": "qjD29py0PJVw",
        "outputId": "39a4c1e5-b846-43ec-a7d5-ddd14c6464d9"
      },
      "execution_count": null,
      "outputs": [
        {
          "output_type": "stream",
          "name": "stdout",
          "text": [
            "<U6\n"
          ]
        }
      ]
    },
    {
      "cell_type": "markdown",
      "source": [
        "- U는 NumPy에서 \"유니코드 문자열(Unicode string)\" 타입을 의미\n",
        "- 6은 배열의 각 요소가 가질 수 있는 최대 문자 수를 의미\n",
        "- <는 메모리의 바이트 순서를 나타내며, 일반적으로 리틀 엔디안(대부분의 환경에서 의미 없음)을 나타냄"
      ],
      "metadata": {
        "id": "eWlHNM1JPVVh"
      }
    },
    {
      "cell_type": "code",
      "source": [
        "import numpy as np\n",
        "\n",
        "arr = np.array([1.1, 2.1, 3.1])\n",
        "\n",
        "newarr = arr.astype('i') #'i'매개변수 값을 사용하여 데이터 유형을 float에서 정수로 변경\n",
        "\n",
        "print(newarr)\n",
        "print(newarr.dtype)"
      ],
      "metadata": {
        "colab": {
          "base_uri": "https://localhost:8080/"
        },
        "id": "DQpi48MTPbBy",
        "outputId": "e2ed6455-0a33-42f3-9223-e42a0e73a9f3"
      },
      "execution_count": null,
      "outputs": [
        {
          "output_type": "stream",
          "name": "stdout",
          "text": [
            "[1 2 3]\n",
            "int32\n"
          ]
        }
      ]
    },
    {
      "cell_type": "code",
      "source": [
        "import numpy as np\n",
        "\n",
        "arr = np.array([1, 0, 3])\n",
        "\n",
        "newarr = arr.astype(bool)\n",
        "\n",
        "print(newarr)\n",
        "print(newarr.dtype)"
      ],
      "metadata": {
        "colab": {
          "base_uri": "https://localhost:8080/"
        },
        "id": "akg0eWUuPncg",
        "outputId": "adca760d-04b3-48f0-a8c6-d7094dfab8e9"
      },
      "execution_count": null,
      "outputs": [
        {
          "output_type": "stream",
          "name": "stdout",
          "text": [
            "[ True False  True]\n",
            "bool\n"
          ]
        }
      ]
    },
    {
      "cell_type": "markdown",
      "source": [
        "- 넘파이에서 정수 → 불리언 변환 시, 0은 False, 0이 아닌 값은 True 로 변환\n",
        "---"
      ],
      "metadata": {
        "id": "UcwG3K2eP-XA"
      }
    },
    {
      "cell_type": "markdown",
      "source": [
        "### **The Difference Between Copy and View(복사와 뷰의 차이점)**"
      ],
      "metadata": {
        "id": "_jUzjhogQNId"
      }
    },
    {
      "cell_type": "markdown",
      "source": [
        "- 배열의 복사본과 뷰의 주요 차이점은 복사본은 **새로운 배열**이고, 뷰는 단지 **원본 배열**의 뷰라는 점입니다.\n",
        "\n",
        "- 복사본은 **데이터를 소유**하며 복사본에 적용된 변경 사항은 원본 배열에 영향을 미치지 않고 원본 배열에 적용된 변경 사항은 복사본에 영향을 미치지 않습니다.\n",
        "\n",
        "- 뷰는 **데이터를 소유하지 않으며** , 뷰에 적용된 모든 변경 사항은 원래 배열에 영향을 미치고, 원래 배열에 적용된 모든 변경 사항은 뷰에 영향을 미칩니다."
      ],
      "metadata": {
        "id": "fvCgOA8ISX72"
      }
    },
    {
      "cell_type": "markdown",
      "source": [
        "- **Copy**"
      ],
      "metadata": {
        "id": "tb0G4M6rSmdM"
      }
    },
    {
      "cell_type": "code",
      "source": [
        "import numpy as np\n",
        "\n",
        "arr = np.array([1, 2, 3, 4, 5])\n",
        "x = arr.copy()\n",
        "arr[0] = 42\n",
        "\n",
        "print(arr)\n",
        "print(x)"
      ],
      "metadata": {
        "colab": {
          "base_uri": "https://localhost:8080/"
        },
        "id": "uhNMLtTWQCI9",
        "outputId": "e64358db-a1f9-4896-bbc1-b0c9c1c28825"
      },
      "execution_count": null,
      "outputs": [
        {
          "output_type": "stream",
          "name": "stdout",
          "text": [
            "[42  2  3  4  5]\n",
            "[1 2 3 4 5]\n"
          ]
        }
      ]
    },
    {
      "cell_type": "markdown",
      "source": [
        "- **View**"
      ],
      "metadata": {
        "id": "z7zrhZtQSp_x"
      }
    },
    {
      "cell_type": "code",
      "source": [
        "import numpy as np\n",
        "\n",
        "arr = np.array([1, 2, 3, 4, 5])\n",
        "x = arr.view()\n",
        "arr[0] = 42\n",
        "\n",
        "print(arr)\n",
        "print(x)"
      ],
      "metadata": {
        "colab": {
          "base_uri": "https://localhost:8080/"
        },
        "id": "ulXihZfiSv_Y",
        "outputId": "551af8ff-8ae0-47cb-a673-265c91c41733"
      },
      "execution_count": null,
      "outputs": [
        {
          "output_type": "stream",
          "name": "stdout",
          "text": [
            "[42  2  3  4  5]\n",
            "[42  2  3  4  5]\n"
          ]
        }
      ]
    }
  ]
}