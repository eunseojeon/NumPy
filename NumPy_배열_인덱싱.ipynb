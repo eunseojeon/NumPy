{
  "nbformat": 4,
  "nbformat_minor": 0,
  "metadata": {
    "colab": {
      "provenance": [],
      "authorship_tag": "ABX9TyPMNGWy2a17Knwl9xeDCb1g",
      "include_colab_link": true
    },
    "kernelspec": {
      "name": "python3",
      "display_name": "Python 3"
    },
    "language_info": {
      "name": "python"
    }
  },
  "cells": [
    {
      "cell_type": "markdown",
      "metadata": {
        "id": "view-in-github",
        "colab_type": "text"
      },
      "source": [
        "<a href=\"https://colab.research.google.com/github/eunseojeon/NumPy/blob/main/NumPy_%EB%B0%B0%EC%97%B4_%EC%9D%B8%EB%8D%B1%EC%8B%B1.ipynb\" target=\"_parent\"><img src=\"https://colab.research.google.com/assets/colab-badge.svg\" alt=\"Open In Colab\"/></a>"
      ]
    },
    {
      "cell_type": "code",
      "execution_count": 6,
      "metadata": {
        "colab": {
          "base_uri": "https://localhost:8080/"
        },
        "id": "KB9FmFb7EVUS",
        "outputId": "5af62263-466c-4a95-c76a-947a6fcaebe0"
      },
      "outputs": [
        {
          "output_type": "stream",
          "name": "stdout",
          "text": [
            "1\n"
          ]
        }
      ],
      "source": [
        "import numpy as np\n",
        "\n",
        "arr = np.array([1, 2, 3, 4])\n",
        "\n",
        "print(arr[0]) #첫번째 요소를 가져옴"
      ]
    },
    {
      "cell_type": "code",
      "source": [
        "import numpy as np\n",
        "\n",
        "arr = np.array([1, 2, 3, 4])\n",
        "\n",
        "print(arr[2] + arr[3]) #세번째와 네번째 요소를 가져와서 더함"
      ],
      "metadata": {
        "colab": {
          "base_uri": "https://localhost:8080/"
        },
        "id": "N8PAfs5LEdKa",
        "outputId": "cbccdfe1-cd4c-4630-bc71-a19e0557381d"
      },
      "execution_count": 7,
      "outputs": [
        {
          "output_type": "stream",
          "name": "stdout",
          "text": [
            "7\n"
          ]
        }
      ]
    },
    {
      "cell_type": "code",
      "source": [
        "import numpy as np\n",
        "\n",
        "arr = np.array([[1,2,3,4,5], [6,7,8,9,10]])\n",
        "\n",
        "print('첫 번째 행의 두 번째 요소:', arr[0, 1])\n",
        "#2번째 행, 5번째 열의 요소에 접근"
      ],
      "metadata": {
        "colab": {
          "base_uri": "https://localhost:8080/"
        },
        "id": "bNy5SrdjEeeg",
        "outputId": "5e39c693-6dc9-4358-9c4b-166f00ccac00"
      },
      "execution_count": 8,
      "outputs": [
        {
          "output_type": "stream",
          "name": "stdout",
          "text": [
            "첫 번째 행의 두 번째 요소: 2\n"
          ]
        }
      ]
    },
    {
      "cell_type": "code",
      "source": [
        "import numpy as np\n",
        "\n",
        "arr = np.array([[[1, 2, 3], [4, 5, 6]], [[7, 8, 9], [10, 11, 12]]])\n",
        "\n",
        "print(arr[0, 1, 2])"
      ],
      "metadata": {
        "colab": {
          "base_uri": "https://localhost:8080/"
        },
        "id": "vr7wbHA5EgOV",
        "outputId": "3cd22d1e-c325-4bad-cf25-fcf03f75ae2a"
      },
      "execution_count": 9,
      "outputs": [
        {
          "output_type": "stream",
          "name": "stdout",
          "text": [
            "6\n"
          ]
        }
      ]
    },
    {
      "cell_type": "markdown",
      "source": [
        "- 첫 번째 숫자는 두 개의 배열 [[1, 2, 3], [4, 5, 6]]과[[7, 8, 9], [10, 11, 12]]을 나타\n",
        "냅니다. 0을 선택했으므로 0첫 번째 배열\n",
        "[[1, 2, 3] , [4, 5, 6]]이 남습니다.\n",
        "\n",
        "- 두 번째 숫자는 두 개의 배열 [1, 2, 3]과 [4, 5, 6] 을 나타냅니다. 1을 선택했으므로 두 번째 배열 [4, 5, 6]이 남습니다.\n",
        "\n",
        "- 세 번째 숫자는 세 개의 값(4, 5, 6)을 나타냅니다.\n",
        "2를 선택했으므로 세 번째 값**(6)** 이 답이 됩니다.\n"
      ],
      "metadata": {
        "id": "VgTZBbB2EidV"
      }
    },
    {
      "cell_type": "code",
      "source": [
        "import numpy as np\n",
        "\n",
        "arr = np.array([[1,2,3,4,5], [6,7,8,9,10]])\n",
        "\n",
        "print('두 번째 행의 마지막 요소:', arr[1, -1]) #음수 인덱싱"
      ],
      "metadata": {
        "colab": {
          "base_uri": "https://localhost:8080/"
        },
        "id": "zYvFsmeaEjov",
        "outputId": "3cfe10ba-0f5c-44b6-a248-d3913a3faadb"
      },
      "execution_count": 10,
      "outputs": [
        {
          "output_type": "stream",
          "name": "stdout",
          "text": [
            "두 번째 행의 마지막 요소: 10\n"
          ]
        }
      ]
    }
  ]
}